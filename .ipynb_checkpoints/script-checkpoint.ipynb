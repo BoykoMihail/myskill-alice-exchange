{
 "cells": [
  {
   "cell_type": "code",
   "execution_count": null,
   "metadata": {},
   "outputs": [],
   "source": [
    "import numpy as np\n",
    "import pandas as pd\n",
    "import firebase_admin\n",
    "from firebase_admin import credentials, firestore"
   ]
  },
  {
   "cell_type": "code",
   "execution_count": null,
   "metadata": {},
   "outputs": [],
   "source": [
    "\n",
    "import firebase_admin\n",
    "from firebase_admin import credentials\n",
    "from firebase_admin import db\n",
    "\n",
    "# Fetch the service account key JSON file contents\n",
    "cred = credentials.Certificate('/Users/mikhailboyko/Projects/StudentsWork/myskill-alice/serviceAccountKey.json')\n",
    "# Initialize the app with a service account, granting admin privileges\n",
    "firebase_admin.initialize_app(cred, {\n",
    "    'databaseURL': 'https://boyko-quotes.firebaseio.com/'\n",
    "})"
   ]
  },
  {
   "cell_type": "code",
   "execution_count": null,
   "metadata": {},
   "outputs": [],
   "source": [
    "ref = db.reference('/')\n",
    "ref.get()"
   ]
  },
  {
   "cell_type": "code",
   "execution_count": null,
   "metadata": {},
   "outputs": [],
   "source": [
    "dataset_nasdaq_listed_symbols = pd.read_csv('/Users/mikhailboyko/Projects/StudentsWork/myskill-alice/DATA/STOKS_DATA/nasdaq-listed-symbols.csv')\n",
    "dataset_nasdaq_listed = pd.read_csv('/Users/mikhailboyko/Projects/StudentsWork/myskill-alice/DATA/STOKS_DATA/nasdaq-listed.csv')\n",
    "dataset_nyse_listed = pd.read_csv('/Users/mikhailboyko/Projects/StudentsWork/myskill-alice/DATA/STOKS_DATA/nyse-listed.csv')\n",
    "dataset_other_listed = pd.read_csv('/Users/mikhailboyko/Projects/StudentsWork/myskill-alice/DATA/STOKS_DATA/other-listed.csv')\n",
    "\n",
    "data = [dataset_nasdaq_listed_symbols, dataset_nasdaq_listed, dataset_nyse_listed, dataset_other_listed]"
   ]
  },
  {
   "cell_type": "code",
   "execution_count": null,
   "metadata": {},
   "outputs": [],
   "source": [
    "cred = credentials.Certificate(\"/Users/mikhailboyko/Projects/StudentsWork/myskill-alice/serviceAccountKey.json\")\n",
    "firebaseApp = firebase_admin.initialize_app(cred)\n",
    "datab = firestore.client()\n",
    "data = dataset_other_listed"
   ]
  },
  {
   "cell_type": "code",
   "execution_count": null,
   "metadata": {},
   "outputs": [],
   "source": [
    "try:\n",
    "    dataArray = []\n",
    "    for ddd in data:\n",
    "        for d in ddd.iterrows():\n",
    "            dataArray.append({\n",
    "                'Name': d[1][1],\n",
    "                'Symbol': d[1][0]\n",
    "            })\n",
    "\n",
    "except Exception as e:\n",
    "    firebase_admin.delete_app(firebaseApp)\n",
    "    print(e)"
   ]
  },
  {
   "cell_type": "code",
   "execution_count": null,
   "metadata": {},
   "outputs": [],
   "source": [
    "ref.push(dataArray)\n",
    "print(len(dataArray))"
   ]
  },
  {
   "cell_type": "code",
   "execution_count": null,
   "metadata": {},
   "outputs": [],
   "source": []
  },
  {
   "cell_type": "code",
   "execution_count": null,
   "metadata": {},
   "outputs": [],
   "source": [
    "from gensim.test.utils import common_texts, get_tmpfile\n",
    "from gensim.models import Word2Vec\n",
    "\n",
    "path = get_tmpfile(\"word2vec.model\")\n",
    "\n",
    "model = Word2Vec(common_texts, size=100, window=5, min_count=1, workers=4)\n",
    "model.save(\"word2vec.model\")"
   ]
  },
  {
   "cell_type": "code",
   "execution_count": null,
   "metadata": {},
   "outputs": [],
   "source": [
    "print(common_texts)"
   ]
  },
  {
   "cell_type": "code",
   "execution_count": null,
   "metadata": {},
   "outputs": [],
   "source": []
  }
 ],
 "metadata": {
  "kernelspec": {
   "display_name": "Python 3",
   "language": "python",
   "name": "python3"
  },
  "language_info": {
   "codemirror_mode": {
    "name": "ipython",
    "version": 3
   },
   "file_extension": ".py",
   "mimetype": "text/x-python",
   "name": "python",
   "nbconvert_exporter": "python",
   "pygments_lexer": "ipython3",
   "version": "3.7.6"
  }
 },
 "nbformat": 4,
 "nbformat_minor": 4
}
