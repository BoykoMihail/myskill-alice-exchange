{
 "cells": [
  {
   "cell_type": "code",
   "execution_count": 1,
   "metadata": {},
   "outputs": [],
   "source": [
    "import firebase_admin\n",
    "from firebase_admin import credentials, firestore\n",
    "import difflib\n",
    "from names_translator import Transliterator\n",
    "import itertools"
   ]
  },
  {
   "cell_type": "code",
   "execution_count": 2,
   "metadata": {},
   "outputs": [],
   "source": [
    "def isEnglish(s):\n",
    "    try:\n",
    "        s.encode(encoding='utf-8').decode('ascii')\n",
    "    except UnicodeDecodeError:\n",
    "        return False\n",
    "    else:\n",
    "        return True"
   ]
  },
  {
   "cell_type": "code",
   "execution_count": 3,
   "metadata": {},
   "outputs": [],
   "source": [
    "def listToString(s,t):\n",
    "    str1 = \"\"\n",
    "    for ele in s:\n",
    "        str1 += ele\n",
    "        str1 += t\n",
    "    return str1[:-1]"
   ]
  },
  {
   "cell_type": "code",
   "execution_count": 4,
   "metadata": {},
   "outputs": [],
   "source": [
    "def findsubsets(s, n): \n",
    "    return [set(i) for i in itertools.combinations(s, n)] "
   ]
  },
  {
   "cell_type": "code",
   "execution_count": 17,
   "metadata": {},
   "outputs": [
    {
     "name": "stdout",
     "output_type": "stream",
     "text": [
      "<class 'itertools.combinations'>\n",
      "textTranslate =  ['khjulet', 'pakard', 'pro', 'kompanyju', 'Majjkrosoft', 'khjulet pakard pro', 'khjulet-pakard-pro', 'khjulet pakard kompanyju', 'khjulet-pakard-kompanyju', 'khjulet pakard Majjkrosoft', 'khjulet-pakard-Majjkrosoft', 'khjulet pro kompanyju', 'khjulet-pro-kompanyju', 'khjulet pro Majjkrosoft', 'khjulet-pro-Majjkrosoft', 'khjulet kompanyju Majjkrosoft', 'khjulet-kompanyju-Majjkrosoft', 'pakard pro kompanyju', 'pakard-pro-kompanyju', 'pakard pro Majjkrosoft', 'pakard-pro-Majjkrosoft', 'pakard kompanyju Majjkrosoft', 'pakard-kompanyju-Majjkrosoft', 'pro kompanyju Majjkrosoft', 'pro-kompanyju-Majjkrosoft', 'khjulet pakard', 'khjulet-pakard', 'khjulet pro', 'khjulet-pro', 'khjulet kompanyju', 'khjulet-kompanyju', 'khjulet Majjkrosoft', 'khjulet-Majjkrosoft', 'pakard pro', 'pakard-pro', 'pakard kompanyju', 'pakard-kompanyju', 'pakard Majjkrosoft', 'pakard-Majjkrosoft', 'pro kompanyju', 'pro-kompanyju', 'pro Majjkrosoft', 'pro-Majjkrosoft', 'kompanyju Majjkrosoft', 'kompanyju-Majjkrosoft']\n",
      "['MSFT', 'HPQ']\n"
     ]
    }
   ],
   "source": [
    "tickers = []\n",
    "    \n",
    "tr = Transliterator()\n",
    "textCurrent = \"хюлет пакард про компанию Майкрософт\"\n",
    "textCurrent = textCurrent.replace(',', ' ')\n",
    "textCurrent = textCurrent.replace('.', '')\n",
    "textArray = textCurrent.split(' ')\n",
    "textTranslate = []\n",
    "temp = []\n",
    "for t in textArray:\n",
    "    translate = \"\"\n",
    "    for val in tr.transliterate(t, \"\", \"\"):\n",
    "        if isEnglish(val):\n",
    "            translate = val\n",
    "            break\n",
    "    textTranslate.append(translate)\n",
    "    temp.append(translate)\n",
    "# temp = textTranslate\n",
    "print(type(itertools.combinations(temp, 3)))\n",
    "for item in itertools.combinations(temp, 3):\n",
    "    textTranslate.append(' '.join(item))\n",
    "    textTranslate.append('-'.join(item))\n",
    "for item in itertools.combinations(temp, 2):\n",
    "    textTranslate.append(' '.join(item))\n",
    "    textTranslate.append('-'.join(item))\n",
    "print(\"textTranslate = \", textTranslate)\n",
    "\n",
    "cred = credentials.Certificate(\"serviceAccountKey.json\")\n",
    "firebaseApp = firebase_admin.initialize_app(cred)\n",
    "datab = firestore.client()\n",
    "\n",
    "try:\n",
    "\n",
    "    usersref = datab.collection(u'tickers')\n",
    "    docs = usersref.stream()\n",
    "\n",
    "    tickerCompanyName = []\n",
    "    tickerName = []\n",
    "    tickerNameMap = {}\n",
    "    for doc in docs:\n",
    "        tickerCompanyName.append(doc.to_dict()['EnglishName'])\n",
    "        tickerNameMap[doc.to_dict()['EnglishName']] = doc.to_dict()['Ticker']\n",
    "\n",
    "    realNames = []\n",
    "    for t in textTranslate:\n",
    "        findName = difflib.get_close_matches(t, tickerCompanyName)\n",
    "        if len(findName) > 0:\n",
    "            if tickerNameMap[findName[0]] not in tickers :\n",
    "                tickers.append(tickerNameMap[findName[0]])\n",
    "\n",
    "    firebase_admin.delete_app(firebaseApp)\n",
    "\n",
    "\n",
    "except Exception as e:\n",
    "    firebase_admin.delete_app(firebaseApp)\n",
    "    print(e)\n",
    "    print(u'No such document!')\n",
    "print(tickers)"
   ]
  },
  {
   "cell_type": "code",
   "execution_count": null,
   "metadata": {},
   "outputs": [],
   "source": [
    "difflib.get_close_matches('anicalin', ['car', 'animal', 'house', 'animation'])"
   ]
  },
  {
   "cell_type": "code",
   "execution_count": null,
   "metadata": {},
   "outputs": [],
   "source": [
    "from names_translator import Transliterator\n",
    "tr = Transliterator()\n",
    "print(next(iter(tr.transliterate(\"Maicrosoft\", \"\", \"\"))))\n",
    "print(next(iter(tr.transliterate(\"Чаплинський\", \"\", \"\"))))\n",
    "tr.transliterate(\"Чаплинський\", \"\", \"\")"
   ]
  },
  {
   "cell_type": "code",
   "execution_count": null,
   "metadata": {},
   "outputs": [],
   "source": [
    "difflib.get_close_matches('Hylet-pockard', ['hyelet-packard', 'animal', 'house', 'animation'])"
   ]
  },
  {
   "cell_type": "code",
   "execution_count": null,
   "metadata": {},
   "outputs": [],
   "source": [
    "text = 'a b,c'\n",
    "text = text.replace(',', ' ')\n",
    "text = text.split(' ')\n",
    "print(text)"
   ]
  },
  {
   "cell_type": "code",
   "execution_count": null,
   "metadata": {},
   "outputs": [],
   "source": [
    "tr = Transliterator()\n",
    "textCurrent = \"хочу узнать акции эпл\"\n",
    "textCurrent = textCurrent.replace(',', ' ')\n",
    "textArray = textCurrent.split(' ')\n",
    "textTranslate = []\n",
    "\n",
    "for t in textArray:\n",
    "    textTranslate.append(next(iter(tr.transliterate(t, \"\", \"\"))))\n",
    "print(textTranslate)"
   ]
  },
  {
   "cell_type": "code",
   "execution_count": null,
   "metadata": {},
   "outputs": [],
   "source": []
  }
 ],
 "metadata": {
  "kernelspec": {
   "display_name": "Python 3",
   "language": "python",
   "name": "python3"
  },
  "language_info": {
   "codemirror_mode": {
    "name": "ipython",
    "version": 3
   },
   "file_extension": ".py",
   "mimetype": "text/x-python",
   "name": "python",
   "nbconvert_exporter": "python",
   "pygments_lexer": "ipython3",
   "version": "3.7.6"
  }
 },
 "nbformat": 4,
 "nbformat_minor": 4
}
